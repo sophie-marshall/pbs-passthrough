{
 "cells": [
  {
   "cell_type": "markdown",
   "metadata": {},
   "source": [
    "# Explore and Run Shot Detection\n",
    "\n",
    "Running facial regonition and embedding on every single frame is expensive. Not to mention, having to query a database or even store information for every frame would get dense.\n",
    "\n",
    "Can we use shot detection/boundaries to determine when sequential frames show significant variation? If yes, we can run facial detection for key frames from these shots, which will *hopefully* contain all individuals appearing in a given shot."
   ]
  },
  {
   "cell_type": "markdown",
   "metadata": {},
   "source": [
    "## Process MP4 File \n",
    "\n",
    "In order to perform shot/scene detection we need to attach some information that will help us quantify the content appearing in a frame \n",
    "\n",
    "Using these metrics we can calculate when a significant shift occurs between frames and mark it as a shot boundary"
   ]
  },
  {
   "cell_type": "code",
   "execution_count": 1,
   "metadata": {},
   "outputs": [],
   "source": [
    "import sys \n",
    "\n",
    "sys.path.append(\"/Users/srmarshall/Desktop/code/pbs/pbs-passthrough/\")"
   ]
  },
  {
   "cell_type": "code",
   "execution_count": 2,
   "metadata": {},
   "outputs": [],
   "source": [
    "# set mp4 filepath - in this case a path pointing to a grantchester episode \n",
    "mp4_filepath = \"/Users/srmarshall/Desktop/data-dump/dynamic_recaps/video_assets/full_length/30d5ccbd-f2ce-4fd7-99d9-ee28236d9af9.mp4\""
   ]
  },
  {
   "cell_type": "code",
   "execution_count": 3,
   "metadata": {},
   "outputs": [
    {
     "name": "stderr",
     "output_type": "stream",
     "text": [
      "Processing MP4 Frames: 100%|██████████| 95025/95025 [01:42<00:00, 924.36frames/s]\n",
      "Extracting Features:   0%|          | 16/95025 [00:00<10:19, 153.24 frames/s]"
     ]
    },
    {
     "name": "stdout",
     "output_type": "stream",
     "text": [
      "Error extracting features: cannot access local variable 'edge' where it is not associated with a value\n"
     ]
    },
    {
     "name": "stderr",
     "output_type": "stream",
     "text": [
      "Extracting Features: 95026 frames [10:15, 154.34 frames/s]                      \n"
     ]
    }
   ],
   "source": [
    "from utils.helpers import video_procesisng_pipeline\n",
    "\n",
    "# run video processing pipeline\n",
    "df = video_procesisng_pipeline(mp4_filepath=mp4_filepath, load_previous=True)"
   ]
  },
  {
   "cell_type": "code",
   "execution_count": 4,
   "metadata": {},
   "outputs": [],
   "source": [
    "## write to df to avoid reprocessing \n",
    "# df.to_csv(\"../assets/grantchester_sample_features.csv\", index=False) ## SM: only needs to be done once"
   ]
  },
  {
   "cell_type": "code",
   "execution_count": 5,
   "metadata": {},
   "outputs": [
    {
     "data": {
      "text/html": [
       "<div>\n",
       "<style scoped>\n",
       "    .dataframe tbody tr th:only-of-type {\n",
       "        vertical-align: middle;\n",
       "    }\n",
       "\n",
       "    .dataframe tbody tr th {\n",
       "        vertical-align: top;\n",
       "    }\n",
       "\n",
       "    .dataframe thead th {\n",
       "        text-align: right;\n",
       "    }\n",
       "</style>\n",
       "<table border=\"1\" class=\"dataframe\">\n",
       "  <thead>\n",
       "    <tr style=\"text-align: right;\">\n",
       "      <th></th>\n",
       "      <th>frame_number</th>\n",
       "      <th>timestamp</th>\n",
       "      <th>edges</th>\n",
       "      <th>pixel_diffs</th>\n",
       "      <th>bhattacharyya_distance</th>\n",
       "    </tr>\n",
       "  </thead>\n",
       "  <tbody>\n",
       "    <tr>\n",
       "      <th>0</th>\n",
       "      <td>1</td>\n",
       "      <td>0.000000</td>\n",
       "      <td>0</td>\n",
       "      <td>0.0</td>\n",
       "      <td>0.0</td>\n",
       "    </tr>\n",
       "    <tr>\n",
       "      <th>1</th>\n",
       "      <td>2</td>\n",
       "      <td>33.366667</td>\n",
       "      <td>0</td>\n",
       "      <td>0.0</td>\n",
       "      <td>0.0</td>\n",
       "    </tr>\n",
       "    <tr>\n",
       "      <th>2</th>\n",
       "      <td>3</td>\n",
       "      <td>66.733333</td>\n",
       "      <td>0</td>\n",
       "      <td>0.0</td>\n",
       "      <td>0.0</td>\n",
       "    </tr>\n",
       "    <tr>\n",
       "      <th>3</th>\n",
       "      <td>4</td>\n",
       "      <td>100.100000</td>\n",
       "      <td>0</td>\n",
       "      <td>0.0</td>\n",
       "      <td>0.0</td>\n",
       "    </tr>\n",
       "    <tr>\n",
       "      <th>4</th>\n",
       "      <td>5</td>\n",
       "      <td>133.466667</td>\n",
       "      <td>0</td>\n",
       "      <td>0.0</td>\n",
       "      <td>0.0</td>\n",
       "    </tr>\n",
       "  </tbody>\n",
       "</table>\n",
       "</div>"
      ],
      "text/plain": [
       "   frame_number   timestamp  edges  pixel_diffs  bhattacharyya_distance\n",
       "0             1    0.000000      0          0.0                     0.0\n",
       "1             2   33.366667      0          0.0                     0.0\n",
       "2             3   66.733333      0          0.0                     0.0\n",
       "3             4  100.100000      0          0.0                     0.0\n",
       "4             5  133.466667      0          0.0                     0.0"
      ]
     },
     "execution_count": 5,
     "metadata": {},
     "output_type": "execute_result"
    }
   ],
   "source": [
    "df.head()"
   ]
  },
  {
   "cell_type": "code",
   "execution_count": 6,
   "metadata": {},
   "outputs": [
    {
     "data": {
      "text/html": [
       "<div>\n",
       "<style scoped>\n",
       "    .dataframe tbody tr th:only-of-type {\n",
       "        vertical-align: middle;\n",
       "    }\n",
       "\n",
       "    .dataframe tbody tr th {\n",
       "        vertical-align: top;\n",
       "    }\n",
       "\n",
       "    .dataframe thead th {\n",
       "        text-align: right;\n",
       "    }\n",
       "</style>\n",
       "<table border=\"1\" class=\"dataframe\">\n",
       "  <thead>\n",
       "    <tr style=\"text-align: right;\">\n",
       "      <th></th>\n",
       "      <th>frame_number</th>\n",
       "      <th>timestamp</th>\n",
       "      <th>edges</th>\n",
       "      <th>pixel_diffs</th>\n",
       "      <th>bhattacharyya_distance</th>\n",
       "    </tr>\n",
       "  </thead>\n",
       "  <tbody>\n",
       "    <tr>\n",
       "      <th>95020</th>\n",
       "      <td>95021</td>\n",
       "      <td>3.170501e+06</td>\n",
       "      <td>0</td>\n",
       "      <td>0.0</td>\n",
       "      <td>0.0</td>\n",
       "    </tr>\n",
       "    <tr>\n",
       "      <th>95021</th>\n",
       "      <td>95022</td>\n",
       "      <td>3.170534e+06</td>\n",
       "      <td>0</td>\n",
       "      <td>0.0</td>\n",
       "      <td>0.0</td>\n",
       "    </tr>\n",
       "    <tr>\n",
       "      <th>95022</th>\n",
       "      <td>95023</td>\n",
       "      <td>3.170567e+06</td>\n",
       "      <td>0</td>\n",
       "      <td>0.0</td>\n",
       "      <td>0.0</td>\n",
       "    </tr>\n",
       "    <tr>\n",
       "      <th>95023</th>\n",
       "      <td>95024</td>\n",
       "      <td>3.170601e+06</td>\n",
       "      <td>0</td>\n",
       "      <td>0.0</td>\n",
       "      <td>0.0</td>\n",
       "    </tr>\n",
       "    <tr>\n",
       "      <th>95024</th>\n",
       "      <td>95025</td>\n",
       "      <td>3.170634e+06</td>\n",
       "      <td>0</td>\n",
       "      <td>NaN</td>\n",
       "      <td>NaN</td>\n",
       "    </tr>\n",
       "  </tbody>\n",
       "</table>\n",
       "</div>"
      ],
      "text/plain": [
       "       frame_number     timestamp  edges  pixel_diffs  bhattacharyya_distance\n",
       "95020         95021  3.170501e+06      0          0.0                     0.0\n",
       "95021         95022  3.170534e+06      0          0.0                     0.0\n",
       "95022         95023  3.170567e+06      0          0.0                     0.0\n",
       "95023         95024  3.170601e+06      0          0.0                     0.0\n",
       "95024         95025  3.170634e+06      0          NaN                     NaN"
      ]
     },
     "execution_count": 6,
     "metadata": {},
     "output_type": "execute_result"
    }
   ],
   "source": [
    "df.tail()"
   ]
  },
  {
   "cell_type": "markdown",
   "metadata": {},
   "source": [
    "## Detect Key Frames\n",
    "\n",
    "Use the metrics we have available to us to try and determine when a frame marks a shot boundary \n",
    "\n",
    "For now, let's use the `bhattacharyya_distance`"
   ]
  },
  {
   "cell_type": "code",
   "execution_count": 11,
   "metadata": {},
   "outputs": [
    {
     "data": {
      "text/html": [
       "<div>\n",
       "<style scoped>\n",
       "    .dataframe tbody tr th:only-of-type {\n",
       "        vertical-align: middle;\n",
       "    }\n",
       "\n",
       "    .dataframe tbody tr th {\n",
       "        vertical-align: top;\n",
       "    }\n",
       "\n",
       "    .dataframe thead th {\n",
       "        text-align: right;\n",
       "    }\n",
       "</style>\n",
       "<table border=\"1\" class=\"dataframe\">\n",
       "  <thead>\n",
       "    <tr style=\"text-align: right;\">\n",
       "      <th></th>\n",
       "      <th>frame_number</th>\n",
       "      <th>timestamp</th>\n",
       "      <th>edges</th>\n",
       "      <th>pixel_diffs</th>\n",
       "      <th>bhattacharyya_distance</th>\n",
       "    </tr>\n",
       "  </thead>\n",
       "  <tbody>\n",
       "    <tr>\n",
       "      <th>count</th>\n",
       "      <td>95025.000000</td>\n",
       "      <td>9.502500e+04</td>\n",
       "      <td>95025.000000</td>\n",
       "      <td>95024.000000</td>\n",
       "      <td>93983.000000</td>\n",
       "    </tr>\n",
       "    <tr>\n",
       "      <th>mean</th>\n",
       "      <td>47513.000000</td>\n",
       "      <td>1.585317e+06</td>\n",
       "      <td>12918.538374</td>\n",
       "      <td>18438.002220</td>\n",
       "      <td>0.021828</td>\n",
       "    </tr>\n",
       "    <tr>\n",
       "      <th>std</th>\n",
       "      <td>27431.499002</td>\n",
       "      <td>9.152977e+05</td>\n",
       "      <td>16596.805285</td>\n",
       "      <td>56571.436779</td>\n",
       "      <td>0.040937</td>\n",
       "    </tr>\n",
       "    <tr>\n",
       "      <th>min</th>\n",
       "      <td>1.000000</td>\n",
       "      <td>0.000000e+00</td>\n",
       "      <td>0.000000</td>\n",
       "      <td>0.000000</td>\n",
       "      <td>0.000000</td>\n",
       "    </tr>\n",
       "    <tr>\n",
       "      <th>25%</th>\n",
       "      <td>23757.000000</td>\n",
       "      <td>7.926585e+05</td>\n",
       "      <td>4045.000000</td>\n",
       "      <td>3.000000</td>\n",
       "      <td>0.009606</td>\n",
       "    </tr>\n",
       "    <tr>\n",
       "      <th>50%</th>\n",
       "      <td>47513.000000</td>\n",
       "      <td>1.585317e+06</td>\n",
       "      <td>7504.000000</td>\n",
       "      <td>1522.000000</td>\n",
       "      <td>0.013762</td>\n",
       "    </tr>\n",
       "    <tr>\n",
       "      <th>75%</th>\n",
       "      <td>71269.000000</td>\n",
       "      <td>2.377976e+06</td>\n",
       "      <td>14369.000000</td>\n",
       "      <td>12630.250000</td>\n",
       "      <td>0.020771</td>\n",
       "    </tr>\n",
       "    <tr>\n",
       "      <th>max</th>\n",
       "      <td>95025.000000</td>\n",
       "      <td>3.170634e+06</td>\n",
       "      <td>143585.000000</td>\n",
       "      <td>830705.000000</td>\n",
       "      <td>0.994448</td>\n",
       "    </tr>\n",
       "  </tbody>\n",
       "</table>\n",
       "</div>"
      ],
      "text/plain": [
       "       frame_number     timestamp          edges    pixel_diffs  \\\n",
       "count  95025.000000  9.502500e+04   95025.000000   95024.000000   \n",
       "mean   47513.000000  1.585317e+06   12918.538374   18438.002220   \n",
       "std    27431.499002  9.152977e+05   16596.805285   56571.436779   \n",
       "min        1.000000  0.000000e+00       0.000000       0.000000   \n",
       "25%    23757.000000  7.926585e+05    4045.000000       3.000000   \n",
       "50%    47513.000000  1.585317e+06    7504.000000    1522.000000   \n",
       "75%    71269.000000  2.377976e+06   14369.000000   12630.250000   \n",
       "max    95025.000000  3.170634e+06  143585.000000  830705.000000   \n",
       "\n",
       "       bhattacharyya_distance  \n",
       "count            93983.000000  \n",
       "mean                 0.021828  \n",
       "std                  0.040937  \n",
       "min                  0.000000  \n",
       "25%                  0.009606  \n",
       "50%                  0.013762  \n",
       "75%                  0.020771  \n",
       "max                  0.994448  "
      ]
     },
     "execution_count": 11,
     "metadata": {},
     "output_type": "execute_result"
    }
   ],
   "source": [
    "# summary stats\n",
    "df.describe()"
   ]
  },
  {
   "cell_type": "code",
   "execution_count": 12,
   "metadata": {},
   "outputs": [],
   "source": [
    "# pull mean and std \n",
    "mean = df[\"bhattacharyya_distance\"].mean()\n",
    "std = df[\"bhattacharyya_distance\"].std()\n",
    "\n",
    "# set threshold to 2 std above the mean\n",
    "threshold = mean + 2*std"
   ]
  },
  {
   "cell_type": "code",
   "execution_count": 13,
   "metadata": {},
   "outputs": [],
   "source": [
    "import numpy as np \n",
    "\n",
    "# mark shot boundaries using the threshold \n",
    "df[\"is_keyframe\"] = np.where(df[\"bhattacharyya_distance\"] > threshold, 1, 0)"
   ]
  },
  {
   "cell_type": "code",
   "execution_count": 14,
   "metadata": {},
   "outputs": [
    {
     "data": {
      "text/plain": [
       "is_keyframe\n",
       "0    93307\n",
       "1     1718\n",
       "Name: count, dtype: int64"
      ]
     },
     "execution_count": 14,
     "metadata": {},
     "output_type": "execute_result"
    }
   ],
   "source": [
    "# how many shots do we have?\n",
    "df.value_counts(\"is_keyframe\")"
   ]
  },
  {
   "cell_type": "code",
   "execution_count": 15,
   "metadata": {},
   "outputs": [],
   "source": [
    "# extract keyframes for analysis\n",
    "keyframe_df = df[df[\"is_keyframe\"] == 1]"
   ]
  },
  {
   "cell_type": "markdown",
   "metadata": {},
   "source": [
    "## Embed Key Frames"
   ]
  }
 ],
 "metadata": {
  "kernelspec": {
   "display_name": "ml_env",
   "language": "python",
   "name": "python3"
  },
  "language_info": {
   "codemirror_mode": {
    "name": "ipython",
    "version": 3
   },
   "file_extension": ".py",
   "mimetype": "text/x-python",
   "name": "python",
   "nbconvert_exporter": "python",
   "pygments_lexer": "ipython3",
   "version": "3.11.4"
  },
  "orig_nbformat": 4
 },
 "nbformat": 4,
 "nbformat_minor": 2
}
