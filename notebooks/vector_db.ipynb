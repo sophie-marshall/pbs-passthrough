{
 "cells": [
  {
   "cell_type": "markdown",
   "metadata": {},
   "source": [
    "# Vector DB\n",
    "\n",
    "To make PBS Passthrough a viable product, we need a place to score the facial embeddings and associated metadata\n",
    "\n",
    "Let's see how `PGVector` can help us achieve this goal"
   ]
  },
  {
   "cell_type": "code",
   "execution_count": null,
   "metadata": {
    "vscode": {
     "languageId": "sql"
    }
   },
   "outputs": [],
   "source": [
    "CREATE TABLE grantchester (\n",
    "    \n",
    ")"
   ]
  },
  {
   "cell_type": "code",
   "execution_count": null,
   "metadata": {},
   "outputs": [],
   "source": [
    "from time import sleep\n",
    "from typing import List\n",
    "import re\n",
    "import requests\n",
    "import psycopg2\n",
    "from pgvector.psycopg2 import register_vector\n",
    "from sentence_transformers import SentenceTransformer, CrossEncoder\n",
    "from pinecone import Pinecone, ServerlessSpec\n",
    "from pinecone_text.sparse import BM25Encoder\n",
    "from tqdm.auto import tqdm\n",
    "from itertools import chain\n",
    "\n",
    "class PGClient: \n",
    "    \"\"\"\n",
    "    Adapted from Useff's PGClient in AI-search-applications \n",
    "    \"\"\"\n",
    "\n",
    "    def __init__(self, host, db_name, user, password):\n",
    "        self.host = host \n",
    "        self.db_name = db_name\n",
    "        self.password = password\n",
    "        self.conn = self.make_connection(\n",
    "            self.host, self.db_name, self.user, self.password\n",
    "        )\n",
    "        register_vector(self.conn)\n",
    "\n",
    "    def make_connection(self):\n",
    "        conn = psycopg2.connect(\n",
    "            host=self.host, user=self.user, password=self.password, dbname=self.db_name\n",
    "        )\n",
    "        return conn\n",
    "    \n",
    "    def insert_embeddings_for_assets(self, table, assets):\n",
    "        \"\"\"\n",
    "        Accepts a list of asset dictionaries and inserts them into an embedding enabled table\n",
    "        \"\"\"\n",
    "\n",
    "        cur = self.conn.cursor()\n",
    "        try:\n",
    "            for asset in assets:\n",
    "                cur.execute (\n",
    "                    f\"\"\"INSERT INTO {table}\n",
    "                        (a)\n",
    "                    \"\"\"\n",
    "                )"
   ]
  }
 ],
 "metadata": {
  "language_info": {
   "name": "python"
  },
  "orig_nbformat": 4
 },
 "nbformat": 4,
 "nbformat_minor": 2
}
